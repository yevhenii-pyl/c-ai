{
 "cells": [
  {
   "cell_type": "markdown",
   "id": "bd85cbad-016e-49b1-83d2-f3dc11f79c97",
   "metadata": {},
   "source": [
    "# Imports"
   ]
  },
  {
   "cell_type": "code",
   "execution_count": 12,
   "id": "0e5cdfb8-5dfe-477e-988a-67b51c0b4d04",
   "metadata": {},
   "outputs": [],
   "source": [
    "import numpy as np\n",
    "import pandas as pd\n",
    "from matplotlib import pyplot as plt\n",
    "%matplotlib inline\n",
    "\n",
    "from sklearn.model_selection import train_test_split\n",
    "from sklearn import metrics\n",
    "\n",
    "from sklearn.neighbors import KNeighborsClassifier\n",
    "from sklearn.svm import SVC\n",
    "from sklearn.neural_network import MLPClassifier\n",
    "\n",
    "import warnings \n",
    "warnings.simplefilter('ignore')"
   ]
  },
  {
   "cell_type": "markdown",
   "id": "9efb6b6d-b9d6-4618-b9fd-fa8f24f08874",
   "metadata": {},
   "source": [
    "# Dataset"
   ]
  },
  {
   "cell_type": "code",
   "execution_count": 5,
   "id": "c558f1cb-01a3-4610-86fa-ef50382578a4",
   "metadata": {},
   "outputs": [
    {
     "data": {
      "text/html": [
       "<div>\n",
       "<style scoped>\n",
       "    .dataframe tbody tr th:only-of-type {\n",
       "        vertical-align: middle;\n",
       "    }\n",
       "\n",
       "    .dataframe tbody tr th {\n",
       "        vertical-align: top;\n",
       "    }\n",
       "\n",
       "    .dataframe thead th {\n",
       "        text-align: right;\n",
       "    }\n",
       "</style>\n",
       "<table border=\"1\" class=\"dataframe\">\n",
       "  <thead>\n",
       "    <tr style=\"text-align: right;\">\n",
       "      <th></th>\n",
       "      <th>subject</th>\n",
       "      <th>sessionIndex</th>\n",
       "      <th>rep</th>\n",
       "      <th>H.period</th>\n",
       "      <th>DD.period.t</th>\n",
       "      <th>UD.period.t</th>\n",
       "      <th>H.t</th>\n",
       "      <th>DD.t.i</th>\n",
       "      <th>UD.t.i</th>\n",
       "      <th>H.i</th>\n",
       "      <th>...</th>\n",
       "      <th>H.a</th>\n",
       "      <th>DD.a.n</th>\n",
       "      <th>UD.a.n</th>\n",
       "      <th>H.n</th>\n",
       "      <th>DD.n.l</th>\n",
       "      <th>UD.n.l</th>\n",
       "      <th>H.l</th>\n",
       "      <th>DD.l.Return</th>\n",
       "      <th>UD.l.Return</th>\n",
       "      <th>H.Return</th>\n",
       "    </tr>\n",
       "  </thead>\n",
       "  <tbody>\n",
       "    <tr>\n",
       "      <th>0</th>\n",
       "      <td>s002</td>\n",
       "      <td>1</td>\n",
       "      <td>1</td>\n",
       "      <td>0.1491</td>\n",
       "      <td>0.3979</td>\n",
       "      <td>0.2488</td>\n",
       "      <td>0.1069</td>\n",
       "      <td>0.1674</td>\n",
       "      <td>0.0605</td>\n",
       "      <td>0.1169</td>\n",
       "      <td>...</td>\n",
       "      <td>0.1349</td>\n",
       "      <td>0.1484</td>\n",
       "      <td>0.0135</td>\n",
       "      <td>0.0932</td>\n",
       "      <td>0.3515</td>\n",
       "      <td>0.2583</td>\n",
       "      <td>0.1338</td>\n",
       "      <td>0.3509</td>\n",
       "      <td>0.2171</td>\n",
       "      <td>0.0742</td>\n",
       "    </tr>\n",
       "    <tr>\n",
       "      <th>1</th>\n",
       "      <td>s002</td>\n",
       "      <td>1</td>\n",
       "      <td>2</td>\n",
       "      <td>0.1111</td>\n",
       "      <td>0.3451</td>\n",
       "      <td>0.2340</td>\n",
       "      <td>0.0694</td>\n",
       "      <td>0.1283</td>\n",
       "      <td>0.0589</td>\n",
       "      <td>0.0908</td>\n",
       "      <td>...</td>\n",
       "      <td>0.1412</td>\n",
       "      <td>0.2558</td>\n",
       "      <td>0.1146</td>\n",
       "      <td>0.1146</td>\n",
       "      <td>0.2642</td>\n",
       "      <td>0.1496</td>\n",
       "      <td>0.0839</td>\n",
       "      <td>0.2756</td>\n",
       "      <td>0.1917</td>\n",
       "      <td>0.0747</td>\n",
       "    </tr>\n",
       "    <tr>\n",
       "      <th>2</th>\n",
       "      <td>s002</td>\n",
       "      <td>1</td>\n",
       "      <td>3</td>\n",
       "      <td>0.1328</td>\n",
       "      <td>0.2072</td>\n",
       "      <td>0.0744</td>\n",
       "      <td>0.0731</td>\n",
       "      <td>0.1291</td>\n",
       "      <td>0.0560</td>\n",
       "      <td>0.0821</td>\n",
       "      <td>...</td>\n",
       "      <td>0.1621</td>\n",
       "      <td>0.2332</td>\n",
       "      <td>0.0711</td>\n",
       "      <td>0.1172</td>\n",
       "      <td>0.2705</td>\n",
       "      <td>0.1533</td>\n",
       "      <td>0.1085</td>\n",
       "      <td>0.2847</td>\n",
       "      <td>0.1762</td>\n",
       "      <td>0.0945</td>\n",
       "    </tr>\n",
       "    <tr>\n",
       "      <th>3</th>\n",
       "      <td>s002</td>\n",
       "      <td>1</td>\n",
       "      <td>4</td>\n",
       "      <td>0.1291</td>\n",
       "      <td>0.2515</td>\n",
       "      <td>0.1224</td>\n",
       "      <td>0.1059</td>\n",
       "      <td>0.2495</td>\n",
       "      <td>0.1436</td>\n",
       "      <td>0.1040</td>\n",
       "      <td>...</td>\n",
       "      <td>0.1457</td>\n",
       "      <td>0.1629</td>\n",
       "      <td>0.0172</td>\n",
       "      <td>0.0866</td>\n",
       "      <td>0.2341</td>\n",
       "      <td>0.1475</td>\n",
       "      <td>0.0845</td>\n",
       "      <td>0.3232</td>\n",
       "      <td>0.2387</td>\n",
       "      <td>0.0813</td>\n",
       "    </tr>\n",
       "    <tr>\n",
       "      <th>4</th>\n",
       "      <td>s002</td>\n",
       "      <td>1</td>\n",
       "      <td>5</td>\n",
       "      <td>0.1249</td>\n",
       "      <td>0.2317</td>\n",
       "      <td>0.1068</td>\n",
       "      <td>0.0895</td>\n",
       "      <td>0.1676</td>\n",
       "      <td>0.0781</td>\n",
       "      <td>0.0903</td>\n",
       "      <td>...</td>\n",
       "      <td>0.1312</td>\n",
       "      <td>0.1582</td>\n",
       "      <td>0.0270</td>\n",
       "      <td>0.0884</td>\n",
       "      <td>0.2517</td>\n",
       "      <td>0.1633</td>\n",
       "      <td>0.0903</td>\n",
       "      <td>0.2517</td>\n",
       "      <td>0.1614</td>\n",
       "      <td>0.0818</td>\n",
       "    </tr>\n",
       "  </tbody>\n",
       "</table>\n",
       "<p>5 rows × 34 columns</p>\n",
       "</div>"
      ],
      "text/plain": [
       "  subject  sessionIndex  rep  H.period  DD.period.t  UD.period.t     H.t  \\\n",
       "0    s002             1    1    0.1491       0.3979       0.2488  0.1069   \n",
       "1    s002             1    2    0.1111       0.3451       0.2340  0.0694   \n",
       "2    s002             1    3    0.1328       0.2072       0.0744  0.0731   \n",
       "3    s002             1    4    0.1291       0.2515       0.1224  0.1059   \n",
       "4    s002             1    5    0.1249       0.2317       0.1068  0.0895   \n",
       "\n",
       "   DD.t.i  UD.t.i     H.i  ...     H.a  DD.a.n  UD.a.n     H.n  DD.n.l  \\\n",
       "0  0.1674  0.0605  0.1169  ...  0.1349  0.1484  0.0135  0.0932  0.3515   \n",
       "1  0.1283  0.0589  0.0908  ...  0.1412  0.2558  0.1146  0.1146  0.2642   \n",
       "2  0.1291  0.0560  0.0821  ...  0.1621  0.2332  0.0711  0.1172  0.2705   \n",
       "3  0.2495  0.1436  0.1040  ...  0.1457  0.1629  0.0172  0.0866  0.2341   \n",
       "4  0.1676  0.0781  0.0903  ...  0.1312  0.1582  0.0270  0.0884  0.2517   \n",
       "\n",
       "   UD.n.l     H.l  DD.l.Return  UD.l.Return  H.Return  \n",
       "0  0.2583  0.1338       0.3509       0.2171    0.0742  \n",
       "1  0.1496  0.0839       0.2756       0.1917    0.0747  \n",
       "2  0.1533  0.1085       0.2847       0.1762    0.0945  \n",
       "3  0.1475  0.0845       0.3232       0.2387    0.0813  \n",
       "4  0.1633  0.0903       0.2517       0.1614    0.0818  \n",
       "\n",
       "[5 rows x 34 columns]"
      ]
     },
     "execution_count": 5,
     "metadata": {},
     "output_type": "execute_result"
    }
   ],
   "source": [
    "df = pd.read_csv(\"DSL-StrongPasswordData.csv\", header = 0)\n",
    "\n",
    "df.head()"
   ]
  },
  {
   "cell_type": "code",
   "execution_count": 6,
   "id": "6e9600d9-9d22-45c2-ad46-e76ec7632b05",
   "metadata": {},
   "outputs": [
    {
     "name": "stdout",
     "output_type": "stream",
     "text": [
      "<class 'pandas.core.frame.DataFrame'>\n",
      "RangeIndex: 20400 entries, 0 to 20399\n",
      "Data columns (total 34 columns):\n",
      " #   Column           Non-Null Count  Dtype  \n",
      "---  ------           --------------  -----  \n",
      " 0   subject          20400 non-null  object \n",
      " 1   sessionIndex     20400 non-null  int64  \n",
      " 2   rep              20400 non-null  int64  \n",
      " 3   H.period         20400 non-null  float64\n",
      " 4   DD.period.t      20400 non-null  float64\n",
      " 5   UD.period.t      20400 non-null  float64\n",
      " 6   H.t              20400 non-null  float64\n",
      " 7   DD.t.i           20400 non-null  float64\n",
      " 8   UD.t.i           20400 non-null  float64\n",
      " 9   H.i              20400 non-null  float64\n",
      " 10  DD.i.e           20400 non-null  float64\n",
      " 11  UD.i.e           20400 non-null  float64\n",
      " 12  H.e              20400 non-null  float64\n",
      " 13  DD.e.five        20400 non-null  float64\n",
      " 14  UD.e.five        20400 non-null  float64\n",
      " 15  H.five           20400 non-null  float64\n",
      " 16  DD.five.Shift.r  20400 non-null  float64\n",
      " 17  UD.five.Shift.r  20400 non-null  float64\n",
      " 18  H.Shift.r        20400 non-null  float64\n",
      " 19  DD.Shift.r.o     20400 non-null  float64\n",
      " 20  UD.Shift.r.o     20400 non-null  float64\n",
      " 21  H.o              20400 non-null  float64\n",
      " 22  DD.o.a           20400 non-null  float64\n",
      " 23  UD.o.a           20400 non-null  float64\n",
      " 24  H.a              20400 non-null  float64\n",
      " 25  DD.a.n           20400 non-null  float64\n",
      " 26  UD.a.n           20400 non-null  float64\n",
      " 27  H.n              20400 non-null  float64\n",
      " 28  DD.n.l           20400 non-null  float64\n",
      " 29  UD.n.l           20400 non-null  float64\n",
      " 30  H.l              20400 non-null  float64\n",
      " 31  DD.l.Return      20400 non-null  float64\n",
      " 32  UD.l.Return      20400 non-null  float64\n",
      " 33  H.Return         20400 non-null  float64\n",
      "dtypes: float64(31), int64(2), object(1)\n",
      "memory usage: 5.3+ MB\n"
     ]
    },
    {
     "data": {
      "text/plain": [
       "subject\n",
       "s002    400\n",
       "s044    400\n",
       "s034    400\n",
       "s035    400\n",
       "s036    400\n",
       "s037    400\n",
       "s038    400\n",
       "s039    400\n",
       "s040    400\n",
       "s041    400\n",
       "s042    400\n",
       "s043    400\n",
       "s046    400\n",
       "s032    400\n",
       "s047    400\n",
       "s048    400\n",
       "s049    400\n",
       "s050    400\n",
       "s051    400\n",
       "s052    400\n",
       "s053    400\n",
       "s054    400\n",
       "s055    400\n",
       "s056    400\n",
       "s033    400\n",
       "s031    400\n",
       "s003    400\n",
       "s017    400\n",
       "s004    400\n",
       "s005    400\n",
       "s007    400\n",
       "s008    400\n",
       "s010    400\n",
       "s011    400\n",
       "s012    400\n",
       "s013    400\n",
       "s015    400\n",
       "s016    400\n",
       "s018    400\n",
       "s030    400\n",
       "s019    400\n",
       "s020    400\n",
       "s021    400\n",
       "s022    400\n",
       "s024    400\n",
       "s025    400\n",
       "s026    400\n",
       "s027    400\n",
       "s028    400\n",
       "s029    400\n",
       "s057    400\n",
       "Name: count, dtype: int64"
      ]
     },
     "execution_count": 6,
     "metadata": {},
     "output_type": "execute_result"
    }
   ],
   "source": [
    "df.info()\n",
    "df['subject'].value_counts()"
   ]
  },
  {
   "cell_type": "markdown",
   "id": "e8b511ea-668a-4387-be9e-0a1e783fe149",
   "metadata": {},
   "source": [
    "# Features & Labels"
   ]
  },
  {
   "cell_type": "code",
   "execution_count": 7,
   "id": "d7555389-a23a-409f-bb80-4739d8c1036e",
   "metadata": {},
   "outputs": [],
   "source": [
    "X = df[df.columns[2:]] \n",
    "y = df['subject']"
   ]
  },
  {
   "cell_type": "markdown",
   "id": "6e58ab4c-6ce1-4372-93fb-557296e4abb0",
   "metadata": {},
   "source": [
    "# Train/Test Split"
   ]
  },
  {
   "cell_type": "code",
   "execution_count": 8,
   "id": "a44b9b1d-0f2b-4aee-94fe-875f935f1686",
   "metadata": {},
   "outputs": [],
   "source": [
    "X_train, X_test, y_train, y_test = train_test_split(\n",
    "    X, y, test_size=0.2, random_state=0\n",
    ")"
   ]
  },
  {
   "cell_type": "markdown",
   "id": "184d5c35-39c9-47eb-88b4-0a7e93580713",
   "metadata": {},
   "source": [
    "# K-Nearest Neighbors"
   ]
  },
  {
   "cell_type": "code",
   "execution_count": 9,
   "id": "272ea5e4-b738-46a8-b23d-b1aa322816ac",
   "metadata": {},
   "outputs": [
    {
     "name": "stdout",
     "output_type": "stream",
     "text": [
      "K-Nearest Neighbor Classifier Accuracy: 0.3730392156862745\n"
     ]
    }
   ],
   "source": [
    "knn = KNeighborsClassifier()\n",
    "knn.fit(X_train, y_train)\n",
    "\n",
    "y_pred_knn = knn.predict(X_test)\n",
    "\n",
    "knn_accuracy = metrics.accuracy_score(y_test, y_pred_knn)\n",
    "print(\"K-Nearest Neighbor Classifier Accuracy:\", knn_accuracy)"
   ]
  },
  {
   "cell_type": "markdown",
   "id": "f00d2a2d-1e4e-4c4a-98da-1b00bb7b3f9e",
   "metadata": {},
   "source": [
    "# KNN Classifier Summary\n",
    "I've trained a **K-Nearest Neighbors (KNN)** classifier to predict user identity based on keystroke dynamics.\n",
    "\n",
    "- Model: **KNeighborsClassifier()**\n",
    "- Key Hyperparameters:\n",
    "    - `n_neighbors=5` — looks at the 5 nearest training samples\n",
    "    - `metric='minkowski'` — Euclidean distance by default\n",
    "    - `weights='uniform'` — each neighbor has equal vote\n",
    "- **Test Accuracy**: **37.3%**\n",
    "\n",
    "KNN correctly predicted the user identity in ~37% of test cases. While relatively low, this result serves as a baseline for a simple non-parametric model."
   ]
  },
  {
   "cell_type": "markdown",
   "id": "bcad26a2-ba0e-40da-8ee2-1ac1193393b8",
   "metadata": {},
   "source": [
    "# Support Vector Machine"
   ]
  },
  {
   "cell_type": "code",
   "execution_count": 14,
   "id": "916a60df-49ac-41c4-a7ed-dd52120ebc13",
   "metadata": {},
   "outputs": [
    {
     "name": "stdout",
     "output_type": "stream",
     "text": [
      "SVM Classifier Accuracy: 0.7629901960784313\n"
     ]
    }
   ],
   "source": [
    "svm = SVC(kernel='linear')\n",
    "svm.fit(X_train, y_train)\n",
    "\n",
    "y_pred_svm = svm.predict(X_test)\n",
    "\n",
    "svm_accuracy = metrics.accuracy_score(y_test, y_pred_svm)\n",
    "print(\"SVM Classifier Accuracy:\", svm_accuracy)"
   ]
  },
  {
   "cell_type": "markdown",
   "id": "df643b9a-f0cf-4ef9-b5c1-ddc2c742394a",
   "metadata": {},
   "source": [
    "# SVM Classifier Summary\n",
    "I've trained a **Support Vector Machine (SVM)** classifier using a linear kernel to predict user identity based on keystroke dynamics.\n",
    "\n",
    "- **Model**: `SVC(kernel='linear')`\n",
    "- **Key Hyperparameters**:\n",
    "  - `kernel='linear'` — uses a straight hyperplane to separate users\n",
    "  - `C=1.0` — default regularization strength\n",
    "- **Test Accuracy**: **76.3%**\n",
    "\n",
    "The SVM significantly outperformed KNN, suggesting that user typing patterns are linearly separable in this feature space."
   ]
  },
  {
   "cell_type": "markdown",
   "id": "129e164a-f273-463e-bc07-333e595fde71",
   "metadata": {},
   "source": [
    "# Multi-layer Perceptron"
   ]
  },
  {
   "cell_type": "code",
   "execution_count": 15,
   "id": "70166ff6-c12a-4abb-8088-e98155d78360",
   "metadata": {},
   "outputs": [
    {
     "name": "stdout",
     "output_type": "stream",
     "text": [
      "MLP Classifier Accuracy: 0.917156862745098\n"
     ]
    }
   ],
   "source": [
    "mlp = MLPClassifier(\n",
    "    hidden_layer_sizes=(100,),  # One hidden layer with 100 neurons\n",
    "    max_iter=500,\n",
    "    random_state=0\n",
    ")\n",
    "mlp.fit(X_train, y_train)\n",
    "\n",
    "y_pred_mlp = mlp.predict(X_test)\n",
    "\n",
    "mlp_accuracy = metrics.accuracy_score(y_test, y_pred_mlp)\n",
    "print(\"MLP Classifier Accuracy:\", mlp_accuracy)"
   ]
  },
  {
   "cell_type": "markdown",
   "id": "4d16cff9-b46c-4ad9-9d08-8559df17a282",
   "metadata": {},
   "source": [
    "### MLP Classifier Summary\n",
    "\n",
    "I've trained a **Multi-Layer Perceptron (MLP)** neural network to classify users based on keystroke dynamics.\n",
    "\n",
    "- **Model**: `MLPClassifier(hidden_layer_sizes=(100,), max_iter=500)`\n",
    "- **Key Hyperparameters**:\n",
    "  - `hidden_layer_sizes=(100,)` — one hidden layer with 100 neurons\n",
    "  - `activation='relu'` (default)\n",
    "  - `solver='adam'` — adaptive optimizer\n",
    "  - `max_iter=500` — sufficient for convergence\n",
    "- **Test Accuracy**: **91.7%**\n",
    "\n",
    "MLP outperformed both KNN and SVM significantly, showing strong capability to learn non-linear, high-dimensional user-specific typing patterns."
   ]
  },
  {
   "cell_type": "markdown",
   "id": "73b26ac6-b3cf-4ea4-af2b-00e0e2736e36",
   "metadata": {},
   "source": [
    "# User Exclusion"
   ]
  },
  {
   "cell_type": "code",
   "execution_count": 16,
   "id": "c02631aa-6fba-4dc7-8dd7-263d32972919",
   "metadata": {},
   "outputs": [],
   "source": [
    "excluded_user = 's002'\n",
    "df_excluded = df[df['subject'] == excluded_user]\n",
    "df_remaining = df[df['subject'] != excluded_user]\n",
    "\n",
    "X_remaining = df_remaining[df.columns[2:]]\n",
    "y_remaining = df_remaining['subject']\n",
    "\n",
    "X_excluded = df_excluded[df.columns[2:]]\n",
    "y_excluded = df_excluded['subject']"
   ]
  },
  {
   "cell_type": "code",
   "execution_count": 17,
   "id": "40380e33-8874-47b9-b52c-a7b22f155a32",
   "metadata": {},
   "outputs": [],
   "source": [
    "# Train/Test Split (on remaining users only)\n",
    "\n",
    "X_train_rem, X_test_rem, y_train_rem, y_test_rem = train_test_split(\n",
    "    X_remaining, y_remaining, test_size=0.2, random_state=0\n",
    ")"
   ]
  },
  {
   "cell_type": "markdown",
   "id": "18699840-7ed9-4599-b473-ef6a35350cbb",
   "metadata": {},
   "source": [
    "# MLP without excluded user"
   ]
  },
  {
   "cell_type": "code",
   "execution_count": 18,
   "id": "9f327366-8014-4fa3-837e-1eb32e89ee8b",
   "metadata": {},
   "outputs": [
    {
     "name": "stdout",
     "output_type": "stream",
     "text": [
      "Accuracy on known users: 0.916\n"
     ]
    }
   ],
   "source": [
    "mlp_exclusion = MLPClassifier(\n",
    "    hidden_layer_sizes=(100,),\n",
    "    max_iter=500,\n",
    "    random_state=0\n",
    ")\n",
    "\n",
    "mlp_exclusion.fit(X_train_rem, y_train_rem)\n",
    "\n",
    "# Evaluate on normal test set (same seen users)\n",
    "y_pred_rem = mlp_exclusion.predict(X_test_rem)\n",
    "acc_rem = metrics.accuracy_score(y_test_rem, y_pred_rem)\n",
    "print(\"Accuracy on known users:\", acc_rem)"
   ]
  },
  {
   "cell_type": "markdown",
   "id": "225f996e-cedc-499b-88da-f34d571729bb",
   "metadata": {},
   "source": [
    "# Predict excluded user samples"
   ]
  },
  {
   "cell_type": "code",
   "execution_count": 19,
   "id": "5ab47257-4d09-42b1-a16e-dfa567f4d53e",
   "metadata": {},
   "outputs": [
    {
     "name": "stdout",
     "output_type": "stream",
     "text": [
      "Predictions for excluded user (s002): {'s003': 2, 's004': 18, 's005': 1, 's012': 8, 's016': 1, 's018': 10, 's020': 6, 's025': 3, 's026': 2, 's027': 2, 's031': 27, 's032': 24, 's034': 25, 's035': 1, 's037': 73, 's039': 19, 's040': 1, 's041': 35, 's046': 1, 's047': 26, 's048': 43, 's050': 60, 's055': 2, 's056': 10}\n"
     ]
    }
   ],
   "source": [
    "y_pred_excluded = mlp_exclusion.predict(X_excluded)\n",
    "\n",
    "# How many of the 400 samples got predicted as any seen user?\n",
    "unique_preds = np.unique(y_pred_excluded, return_counts=True)\n",
    "print(\"Predictions for excluded user (s002):\", dict(zip(*unique_preds)))"
   ]
  },
  {
   "cell_type": "markdown",
   "id": "3832f6bc-c712-44ec-a0fb-ac85372573c1",
   "metadata": {},
   "source": [
    "# Unseen User Detection (User Exclusion Test)\n",
    "To simulate a real-world scenario where the model encounters a completely new user, I excluded one subject (s002) from the training data and evaluated how the classifier behaves.\n",
    "\n",
    "Excluded User: **s002**\n",
    "\n",
    "Model Used: **MLPClassifier(hidden_layer_sizes=(100,), max_iter=500)**\n",
    "\n",
    "📊 Results:\n",
    "Accuracy on Known Users: **91.6%**\n",
    "The classifier maintained high accuracy when tested on users it had seen during training.\n",
    "\n",
    "Predictions for Excluded User (s002):\n",
    "All 400 samples were misclassified as existing users.\n",
    "The most common incorrect predictions were:\n",
    "\n",
    "s037: 73 samples\n",
    "\n",
    "s050: 60 samples\n",
    "\n",
    "s048: 43 samples\n",
    "\n",
    "s041: 35 samples\n",
    "\n",
    "s034: 25 samples\n",
    "(...and others in smaller quantities)\n",
    "\n",
    "**Interpretation:**\n",
    "The model has no awareness of \"unknown\" users — it is forced to classify every input into one of the classes it was trained on. This is expected behavior in standard multiclass classification."
   ]
  },
  {
   "cell_type": "markdown",
   "id": "0f77ceaa-f158-4864-9e2d-f7ba629b42a3",
   "metadata": {},
   "source": [
    "# \"Uncertainty Rejection\" with MLP"
   ]
  },
  {
   "cell_type": "code",
   "execution_count": 20,
   "id": "c849c673-936a-4404-bda5-db4581f12cbd",
   "metadata": {},
   "outputs": [
    {
     "name": "stdout",
     "output_type": "stream",
     "text": [
      "Rejected predictions: 114 / 400\n"
     ]
    }
   ],
   "source": [
    "# Predict probabilities for excluded user\n",
    "y_proba_excluded = mlp_exclusion.predict_proba(X_excluded)\n",
    "\n",
    "# Get max confidence for each sample\n",
    "max_confidences = np.max(y_proba_excluded, axis=1)\n",
    "\n",
    "# Define a threshold for rejection\n",
    "threshold = 0.5\n",
    "\n",
    "# Reject if confidence is below threshold\n",
    "rejected = max_confidences < threshold\n",
    "num_rejected = np.sum(rejected)\n",
    "print(f\"Rejected predictions: {num_rejected} / {len(X_excluded)}\")"
   ]
  },
  {
   "cell_type": "code",
   "execution_count": 21,
   "id": "16463c0a-9614-47e8-9021-653d126bff2b",
   "metadata": {},
   "outputs": [
    {
     "data": {
      "image/png": "[encoded data removed]",
      "text/plain": [
       "<Figure size 800x500 with 1 Axes>"
      ]
     },
     "metadata": {},
     "output_type": "display_data"
    }
   ],
   "source": [
    "y_proba_excluded = mlp_exclusion.predict_proba(X_excluded)\n",
    "\n",
    "# Get max confidence per sample\n",
    "max_confidences = np.max(y_proba_excluded, axis=1)\n",
    "\n",
    "# Plot confidence distribution\n",
    "plt.figure(figsize=(8, 5))\n",
    "plt.hist(max_confidences, bins=20, edgecolor='black')\n",
    "plt.axvline(0.5, color='red', linestyle='--', label='Rejection Threshold (0.5)')\n",
    "plt.title('Confidence Distribution for Excluded User Predictions')\n",
    "plt.xlabel('Maximum Predicted Class Probability')\n",
    "plt.ylabel('Number of Samples')\n",
    "plt.legend()\n",
    "plt.grid(True)\n",
    "plt.tight_layout()\n",
    "plt.show()"
   ]
  },
  {
   "cell_type": "code",
   "execution_count": 23,
   "id": "19d53416-22b4-4269-baa7-2ccec846eaf9",
   "metadata": {},
   "outputs": [
    {
     "name": "stdout",
     "output_type": "stream",
     "text": [
      "Final predictions with rejection: Counter({'unknown': 114, 's037': 53, 's050': 44, 's041': 35, 's048': 24, 's031': 22, 's047': 20, 's034': 17, 's039': 14, 's032': 14, 's004': 10, 's012': 8, 's018': 6, 's056': 5, 's020': 4, 's025': 2, 's003': 2, 's040': 1, 's027': 1, 's005': 1, 's016': 1, 's035': 1, 's046': 1})\n",
      "Rejected as unknown: 114 / 400\n"
     ]
    }
   ],
   "source": [
    "# Define label for unknowns\n",
    "UNKNOWN_LABEL = 'unknown'\n",
    "THRESHOLD = 0.5\n",
    "\n",
    "# Predict probabilities\n",
    "y_proba_excluded = mlp_exclusion.predict_proba(X_excluded)\n",
    "max_confidences = np.max(y_proba_excluded, axis=1)\n",
    "predicted_classes = mlp_exclusion.classes_[np.argmax(y_proba_excluded, axis=1)]\n",
    "\n",
    "# Replace low-confidence predictions with 'unknown'\n",
    "y_pred_with_rejection = np.where(max_confidences < THRESHOLD, UNKNOWN_LABEL, predicted_classes)\n",
    "\n",
    "# Count unknowns vs misclassified knowns\n",
    "from collections import Counter\n",
    "prediction_counts = Counter(y_pred_with_rejection)\n",
    "print(\"Final predictions with rejection:\", prediction_counts)\n",
    "\n",
    "num_unknown = np.sum(y_pred_with_rejection == UNKNOWN_LABEL)\n",
    "print(f\"Rejected as unknown: {num_unknown} / {len(X_excluded)}\")\n"
   ]
  },
  {
   "cell_type": "markdown",
   "id": "6421768a-99a3-4ad8-a9cd-5fb3a4f8e4de",
   "metadata": {},
   "source": [
    "### Unknown User Handling with Confidence-Based Rejection\n",
    "\n",
    "To improve the model's behavior in real-world scenarios, I implemented a confidence-based rejection mechanism. The goal was to allow the model to **abstain from guessing** when it encounters typing data from an **unseen user** (in this case, `s002`), rather than misclassify it as a known user.\n",
    "\n",
    "- **Model**: `MLPClassifier(hidden_layer_sizes=(100,), max_iter=500)`\n",
    "- **Prediction Strategy**:\n",
    "  - Used `.predict_proba()` to access class probabilities\n",
    "  - If the model’s confidence (i.e., max probability) was **below 0.5**, it predicted `'unknown'` instead of a known user label\n",
    "\n",
    "#### Key Parameters:\n",
    "- **Threshold**: `0.5`  \n",
    "- **Unknown label**: `'unknown'`\n",
    "\n",
    "#### Results:\n",
    "- Many low-confidence predictions for the excluded user were successfully rejected\n",
    "- This approach reduced the number of false classifications by **letting the model express uncertainty**\n",
    "\n",
    "> This simulates **open-set recognition**, where the model isn't forced to classify every input, and is a step toward more robust, real-world biometric authentication systems.\n"
   ]
  }
 ],
 "metadata": {
  "kernelspec": {
   "display_name": "Python 3 (ipykernel)",
   "language": "python",
   "name": "python3"
  },
  "language_info": {
   "codemirror_mode": {
    "name": "ipython",
    "version": 3
   },
   "file_extension": ".py",
   "mimetype": "text/x-python",
   "name": "python",
   "nbconvert_exporter": "python",
   "pygments_lexer": "ipython3",
   "version": "3.11.11"
  }
 },
 "nbformat": 4,
 "nbformat_minor": 5
}
